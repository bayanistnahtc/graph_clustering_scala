{
 "cells": [
  {
   "cell_type": "code",
   "execution_count": 34,
   "metadata": {},
   "outputs": [],
   "source": [
    "import pandas as pd\n",
    "import numpy as np\n",
    "import seaborn as sn\n",
    "nodes = []\n",
    "clusters = []\n",
    "count = 0\n",
    "with open(\"../../../data/outputClustersNormalData2_17/part-00000\") as f: \n",
    "    for line in f:\n",
    "#         if count > 1000:\n",
    "#             break\n",
    "        line = line.strip()[1:-1]\n",
    "        node, cluster = line.split(\",\")\n",
    "        nodes.append(int(node))\n",
    "        clusters.append(int(cluster))\n",
    "        \n",
    "# with open(\"../../../data/output22/part-00001\") as f: \n",
    "#     for line in f:\n",
    "# #         if count > 1000:\n",
    "# #             break\n",
    "#         line = line.strip()[1:-1]\n",
    "#         node, cluster = line.split(\",\")\n",
    "#         nodes.append(int(node))\n",
    "#         clusters.append(int(cluster))"
   ]
  },
  {
   "cell_type": "code",
   "execution_count": 35,
   "metadata": {},
   "outputs": [],
   "source": [
    "df = pd.DataFrame({'node': nodes,  'cluster': clusters})"
   ]
  },
  {
   "cell_type": "code",
   "execution_count": 36,
   "metadata": {},
   "outputs": [
    {
     "data": {
      "text/html": [
       "<div>\n",
       "<style scoped>\n",
       "    .dataframe tbody tr th:only-of-type {\n",
       "        vertical-align: middle;\n",
       "    }\n",
       "\n",
       "    .dataframe tbody tr th {\n",
       "        vertical-align: top;\n",
       "    }\n",
       "\n",
       "    .dataframe thead th {\n",
       "        text-align: right;\n",
       "    }\n",
       "</style>\n",
       "<table border=\"1\" class=\"dataframe\">\n",
       "  <thead>\n",
       "    <tr style=\"text-align: right;\">\n",
       "      <th></th>\n",
       "      <th>node</th>\n",
       "      <th>cluster</th>\n",
       "    </tr>\n",
       "  </thead>\n",
       "  <tbody>\n",
       "    <tr>\n",
       "      <th>0</th>\n",
       "      <td>185012</td>\n",
       "      <td>954892</td>\n",
       "    </tr>\n",
       "    <tr>\n",
       "      <th>1</th>\n",
       "      <td>354796</td>\n",
       "      <td>1181827</td>\n",
       "    </tr>\n",
       "    <tr>\n",
       "      <th>2</th>\n",
       "      <td>1179224</td>\n",
       "      <td>1181827</td>\n",
       "    </tr>\n",
       "    <tr>\n",
       "      <th>3</th>\n",
       "      <td>129434</td>\n",
       "      <td>1400624</td>\n",
       "    </tr>\n",
       "    <tr>\n",
       "      <th>4</th>\n",
       "      <td>1377538</td>\n",
       "      <td>1060748</td>\n",
       "    </tr>\n",
       "  </tbody>\n",
       "</table>\n",
       "</div>"
      ],
      "text/plain": [
       "      node  cluster\n",
       "0   185012   954892\n",
       "1   354796  1181827\n",
       "2  1179224  1181827\n",
       "3   129434  1400624\n",
       "4  1377538  1060748"
      ]
     },
     "execution_count": 36,
     "metadata": {},
     "output_type": "execute_result"
    }
   ],
   "source": [
    "df.head()"
   ]
  },
  {
   "cell_type": "code",
   "execution_count": 37,
   "metadata": {},
   "outputs": [],
   "source": [
    "df = df.sort_values('node').reset_index(drop=True)"
   ]
  },
  {
   "cell_type": "code",
   "execution_count": 38,
   "metadata": {},
   "outputs": [
    {
     "data": {
      "text/plain": [
       "1400624    93532\n",
       "1181827    41362\n",
       "1060748    35851\n",
       "870589     12397\n",
       "81608      10688\n",
       "Name: cluster, dtype: int64"
      ]
     },
     "execution_count": 38,
     "metadata": {},
     "output_type": "execute_result"
    }
   ],
   "source": [
    "df['cluster'].value_counts()[:5]"
   ]
  },
  {
   "cell_type": "code",
   "execution_count": 40,
   "metadata": {},
   "outputs": [
    {
     "data": {
      "text/plain": [
       "344877"
      ]
     },
     "execution_count": 40,
     "metadata": {},
     "output_type": "execute_result"
    }
   ],
   "source": [
    "# Number of vertices:\n",
    "len(df['node'].unique())"
   ]
  },
  {
   "cell_type": "code",
   "execution_count": 41,
   "metadata": {},
   "outputs": [
    {
     "data": {
      "text/plain": [
       "22049"
      ]
     },
     "execution_count": 41,
     "metadata": {},
     "output_type": "execute_result"
    }
   ],
   "source": [
    "# Number of clusters:\n",
    "len(df['cluster'].unique())"
   ]
  },
  {
   "cell_type": "code",
   "execution_count": 43,
   "metadata": {},
   "outputs": [
    {
     "data": {
      "text/plain": [
       "count    22049.000000\n",
       "mean        15.641390\n",
       "std        741.338534\n",
       "min          1.000000\n",
       "25%          1.000000\n",
       "50%          1.000000\n",
       "75%          2.000000\n",
       "max      93532.000000\n",
       "Name: cluster, dtype: float64"
      ]
     },
     "execution_count": 43,
     "metadata": {},
     "output_type": "execute_result"
    }
   ],
   "source": [
    "clusters_counts = df['cluster'].value_counts()\n",
    "clusters_counts.describe()"
   ]
  },
  {
   "cell_type": "code",
   "execution_count": 44,
   "metadata": {},
   "outputs": [
    {
     "data": {
      "text/plain": [
       "13465"
      ]
     },
     "execution_count": 44,
     "metadata": {},
     "output_type": "execute_result"
    }
   ],
   "source": [
    "clusters_counts[clusters_counts == 1].shape[0]"
   ]
  },
  {
   "cell_type": "code",
   "execution_count": 45,
   "metadata": {},
   "outputs": [
    {
     "data": {
      "text/plain": [
       "8584"
      ]
     },
     "execution_count": 45,
     "metadata": {},
     "output_type": "execute_result"
    }
   ],
   "source": [
    "clusters_counts[clusters_counts > 1].shape[0]"
   ]
  },
  {
   "cell_type": "code",
   "execution_count": 46,
   "metadata": {},
   "outputs": [
    {
     "data": {
      "text/plain": [
       "1074"
      ]
     },
     "execution_count": 46,
     "metadata": {},
     "output_type": "execute_result"
    }
   ],
   "source": [
    "clusters_counts[clusters_counts > 10].shape[0]"
   ]
  },
  {
   "cell_type": "code",
   "execution_count": 47,
   "metadata": {},
   "outputs": [
    {
     "data": {
      "text/plain": [
       "<matplotlib.axes._subplots.AxesSubplot at 0x7f753cd8c3c8>"
      ]
     },
     "execution_count": 47,
     "metadata": {},
     "output_type": "execute_result"
    },
    {
     "data": {
      "image/png": "[encoded data removed]",
      "text/plain": [
       "<Figure size 432x288 with 1 Axes>"
      ]
     },
     "metadata": {
      "needs_background": "light"
     },
     "output_type": "display_data"
    }
   ],
   "source": [
    "sn.boxplot(clusters_counts[(clusters_counts > 10) & (clusters_counts < 5000)])"
   ]
  },
  {
   "cell_type": "raw",
   "metadata": {},
   "source": [
    "From 22 049 unique clusters \n",
    "13 465 contain only 1 node inside\n",
    "so we have 8 584 clusters where more than one node \n",
    "and 1 074 clusters, where more than 10 nodes inside\n",
    "min of elements of a cluster is 1\n",
    "median is also 1\n",
    "mean of the clusters sizes is 15\n",
    "max in 93 532\n"
   ]
  },
  {
   "cell_type": "markdown",
   "metadata": {},
   "source": [
    "# The original graph"
   ]
  },
  {
   "cell_type": "code",
   "execution_count": 14,
   "metadata": {},
   "outputs": [
    {
     "data": {
      "text/html": [
       "<div>\n",
       "<style scoped>\n",
       "    .dataframe tbody tr th:only-of-type {\n",
       "        vertical-align: middle;\n",
       "    }\n",
       "\n",
       "    .dataframe tbody tr th {\n",
       "        vertical-align: top;\n",
       "    }\n",
       "\n",
       "    .dataframe thead th {\n",
       "        text-align: right;\n",
       "    }\n",
       "</style>\n",
       "<table border=\"1\" class=\"dataframe\">\n",
       "  <thead>\n",
       "    <tr style=\"text-align: right;\">\n",
       "      <th></th>\n",
       "      <th>src</th>\n",
       "      <th>dsn</th>\n",
       "    </tr>\n",
       "  </thead>\n",
       "  <tbody>\n",
       "    <tr>\n",
       "      <th>0</th>\n",
       "      <td>1</td>\n",
       "      <td>2</td>\n",
       "    </tr>\n",
       "    <tr>\n",
       "      <th>1</th>\n",
       "      <td>2</td>\n",
       "      <td>1</td>\n",
       "    </tr>\n",
       "    <tr>\n",
       "      <th>2</th>\n",
       "      <td>6</td>\n",
       "      <td>1102234</td>\n",
       "    </tr>\n",
       "    <tr>\n",
       "      <th>3</th>\n",
       "      <td>9</td>\n",
       "      <td>10</td>\n",
       "    </tr>\n",
       "    <tr>\n",
       "      <th>4</th>\n",
       "      <td>9</td>\n",
       "      <td>1101496</td>\n",
       "    </tr>\n",
       "  </tbody>\n",
       "</table>\n",
       "</div>"
      ],
      "text/plain": [
       "   src      dsn\n",
       "0    1        2\n",
       "1    2        1\n",
       "2    6  1102234\n",
       "3    9       10\n",
       "4    9  1101496"
      ]
     },
     "execution_count": 14,
     "metadata": {},
     "output_type": "execute_result"
    }
   ],
   "source": [
    "orig_graph = pd.read_csv(\"../../../data/wiki-topcats-short_ver_2.txt\", sep=\" \", names=['src', 'dsn'])\n",
    "orig_graph.head()"
   ]
  },
  {
   "cell_type": "code",
   "execution_count": 19,
   "metadata": {},
   "outputs": [],
   "source": [
    "all_nodes = np.unique(np.concatenate([orig_graph['src'].values, orig_graph['dsn'].values]))"
   ]
  },
  {
   "cell_type": "code",
   "execution_count": 21,
   "metadata": {},
   "outputs": [
    {
     "data": {
      "text/plain": [
       "(344877,)"
      ]
     },
     "execution_count": 21,
     "metadata": {},
     "output_type": "execute_result"
    }
   ],
   "source": [
    "all_nodes.shape"
   ]
  },
  {
   "cell_type": "code",
   "execution_count": 56,
   "metadata": {},
   "outputs": [
    {
     "data": {
      "text/html": [
       "<div>\n",
       "<style scoped>\n",
       "    .dataframe tbody tr th:only-of-type {\n",
       "        vertical-align: middle;\n",
       "    }\n",
       "\n",
       "    .dataframe tbody tr th {\n",
       "        vertical-align: top;\n",
       "    }\n",
       "\n",
       "    .dataframe thead th {\n",
       "        text-align: right;\n",
       "    }\n",
       "</style>\n",
       "<table border=\"1\" class=\"dataframe\">\n",
       "  <thead>\n",
       "    <tr style=\"text-align: right;\">\n",
       "      <th></th>\n",
       "      <th>Unnamed: 0</th>\n",
       "      <th>name</th>\n",
       "      <th>nodes</th>\n",
       "    </tr>\n",
       "  </thead>\n",
       "  <tbody>\n",
       "    <tr>\n",
       "      <th>0</th>\n",
       "      <td>466</td>\n",
       "      <td>Category:Greek_Orthodox_Patriarchs_of_Alexandria</td>\n",
       "      <td>['47091', '47092', '47093', '47094', '47095', ...</td>\n",
       "    </tr>\n",
       "    <tr>\n",
       "      <th>1</th>\n",
       "      <td>8249</td>\n",
       "      <td>Category:Writers_from_New_Jersey</td>\n",
       "      <td>['55522', '70631', '133117', '134234', '134922...</td>\n",
       "    </tr>\n",
       "    <tr>\n",
       "      <th>2</th>\n",
       "      <td>4535</td>\n",
       "      <td>Category:Fictional_telepaths</td>\n",
       "      <td>['109860', '109861', '109863', '113225', '1349...</td>\n",
       "    </tr>\n",
       "    <tr>\n",
       "      <th>3</th>\n",
       "      <td>9474</td>\n",
       "      <td>Category:Scottish_clans</td>\n",
       "      <td>['157608', '185054', '185739', '186016', '1860...</td>\n",
       "    </tr>\n",
       "    <tr>\n",
       "      <th>4</th>\n",
       "      <td>10992</td>\n",
       "      <td>Category:Differential_geometry</td>\n",
       "      <td>['6', '35580', '63699', '63715', '63718', '698...</td>\n",
       "    </tr>\n",
       "  </tbody>\n",
       "</table>\n",
       "</div>"
      ],
      "text/plain": [
       "   Unnamed: 0                                              name  \\\n",
       "0         466  Category:Greek_Orthodox_Patriarchs_of_Alexandria   \n",
       "1        8249                  Category:Writers_from_New_Jersey   \n",
       "2        4535                      Category:Fictional_telepaths   \n",
       "3        9474                           Category:Scottish_clans   \n",
       "4       10992                    Category:Differential_geometry   \n",
       "\n",
       "                                               nodes  \n",
       "0  ['47091', '47092', '47093', '47094', '47095', ...  \n",
       "1  ['55522', '70631', '133117', '134234', '134922...  \n",
       "2  ['109860', '109861', '109863', '113225', '1349...  \n",
       "3  ['157608', '185054', '185739', '186016', '1860...  \n",
       "4  ['6', '35580', '63699', '63715', '63718', '698...  "
      ]
     },
     "execution_count": 56,
     "metadata": {},
     "output_type": "execute_result"
    }
   ],
   "source": [
    "sample_clusters = pd.read_csv(\"../../../../assignment 3/sample_clusters_ver_2.csv\")\n",
    "sample_clusters.head()"
   ]
  },
  {
   "cell_type": "code",
   "execution_count": 57,
   "metadata": {},
   "outputs": [],
   "source": [
    "nodes_from_clusters = sample_clusters['nodes'].apply(lambda x : eval(x))\n",
    "clusters = sample_clusters['name']"
   ]
  },
  {
   "cell_type": "code",
   "execution_count": 58,
   "metadata": {},
   "outputs": [],
   "source": [
    "nodes = []\n",
    "labels = []\n",
    "for nds, cluster in zip(nodes_from_clusters, clusters):\n",
    "    nodes.extend(nds)\n",
    "    labels.extend([cluster for i in range(len(nds))])"
   ]
  },
  {
   "cell_type": "code",
   "execution_count": 59,
   "metadata": {},
   "outputs": [
    {
     "data": {
      "text/plain": [
       "(457799, 457799)"
      ]
     },
     "execution_count": 59,
     "metadata": {},
     "output_type": "execute_result"
    }
   ],
   "source": [
    "len(nodes), len(labels)"
   ]
  },
  {
   "cell_type": "code",
   "execution_count": 62,
   "metadata": {},
   "outputs": [
    {
     "data": {
      "text/plain": [
       "(22049,)"
      ]
     },
     "execution_count": 62,
     "metadata": {},
     "output_type": "execute_result"
    }
   ],
   "source": [
    "clusters_counts.index.values.shape"
   ]
  },
  {
   "cell_type": "code",
   "execution_count": 66,
   "metadata": {},
   "outputs": [
    {
     "data": {
      "text/plain": [
       "numpy.int64"
      ]
     },
     "execution_count": 66,
     "metadata": {},
     "output_type": "execute_result"
    }
   ],
   "source": [
    "type(df['node'].iloc[0])"
   ]
  },
  {
   "cell_type": "code",
   "execution_count": 69,
   "metadata": {},
   "outputs": [
    {
     "data": {
      "text/plain": [
       "str"
      ]
     },
     "execution_count": 69,
     "metadata": {},
     "output_type": "execute_result"
    }
   ],
   "source": [
    "type(node_label['node'].iloc[0])"
   ]
  },
  {
   "cell_type": "code",
   "execution_count": 72,
   "metadata": {},
   "outputs": [
    {
     "data": {
      "text/html": [
       "<div>\n",
       "<style scoped>\n",
       "    .dataframe tbody tr th:only-of-type {\n",
       "        vertical-align: middle;\n",
       "    }\n",
       "\n",
       "    .dataframe tbody tr th {\n",
       "        vertical-align: top;\n",
       "    }\n",
       "\n",
       "    .dataframe thead th {\n",
       "        text-align: right;\n",
       "    }\n",
       "</style>\n",
       "<table border=\"1\" class=\"dataframe\">\n",
       "  <thead>\n",
       "    <tr style=\"text-align: right;\">\n",
       "      <th></th>\n",
       "      <th>node</th>\n",
       "      <th>cluster</th>\n",
       "    </tr>\n",
       "  </thead>\n",
       "  <tbody>\n",
       "    <tr>\n",
       "      <th>0</th>\n",
       "      <td>47091</td>\n",
       "      <td>Category:Greek_Orthodox_Patriarchs_of_Alexandria</td>\n",
       "    </tr>\n",
       "    <tr>\n",
       "      <th>1</th>\n",
       "      <td>47092</td>\n",
       "      <td>Category:Greek_Orthodox_Patriarchs_of_Alexandria</td>\n",
       "    </tr>\n",
       "    <tr>\n",
       "      <th>2</th>\n",
       "      <td>47093</td>\n",
       "      <td>Category:Greek_Orthodox_Patriarchs_of_Alexandria</td>\n",
       "    </tr>\n",
       "    <tr>\n",
       "      <th>3</th>\n",
       "      <td>47094</td>\n",
       "      <td>Category:Greek_Orthodox_Patriarchs_of_Alexandria</td>\n",
       "    </tr>\n",
       "    <tr>\n",
       "      <th>4</th>\n",
       "      <td>47095</td>\n",
       "      <td>Category:Greek_Orthodox_Patriarchs_of_Alexandria</td>\n",
       "    </tr>\n",
       "  </tbody>\n",
       "</table>\n",
       "</div>"
      ],
      "text/plain": [
       "    node                                           cluster\n",
       "0  47091  Category:Greek_Orthodox_Patriarchs_of_Alexandria\n",
       "1  47092  Category:Greek_Orthodox_Patriarchs_of_Alexandria\n",
       "2  47093  Category:Greek_Orthodox_Patriarchs_of_Alexandria\n",
       "3  47094  Category:Greek_Orthodox_Patriarchs_of_Alexandria\n",
       "4  47095  Category:Greek_Orthodox_Patriarchs_of_Alexandria"
      ]
     },
     "execution_count": 72,
     "metadata": {},
     "output_type": "execute_result"
    }
   ],
   "source": [
    "node_label = pd.DataFrame({'node':nodes, 'cluster': labels})\n",
    "node_label['node'] = node_label['node'].astype(int)\n",
    "node_label = node_label[node_label['node'].isin(df['node'])]\n",
    "node_label.head()"
   ]
  },
  {
   "cell_type": "code",
   "execution_count": 73,
   "metadata": {},
   "outputs": [
    {
     "data": {
      "text/plain": [
       "344877"
      ]
     },
     "execution_count": 73,
     "metadata": {},
     "output_type": "execute_result"
    }
   ],
   "source": [
    "# Number of vertices:\n",
    "len(node_label['node'].unique())"
   ]
  },
  {
   "cell_type": "code",
   "execution_count": 74,
   "metadata": {},
   "outputs": [
    {
     "data": {
      "text/plain": [
       "1698"
      ]
     },
     "execution_count": 74,
     "metadata": {},
     "output_type": "execute_result"
    }
   ],
   "source": [
    "# Number of clusters:\n",
    "len(node_label['cluster'].unique())"
   ]
  },
  {
   "cell_type": "code",
   "execution_count": 75,
   "metadata": {},
   "outputs": [
    {
     "data": {
      "text/plain": [
       "count     1698.000000\n",
       "mean       241.693168\n",
       "std        585.546038\n",
       "min          1.000000\n",
       "25%         98.000000\n",
       "50%        133.000000\n",
       "75%        229.750000\n",
       "max      14651.000000\n",
       "Name: cluster, dtype: float64"
      ]
     },
     "execution_count": 75,
     "metadata": {},
     "output_type": "execute_result"
    }
   ],
   "source": [
    "original_clusters_counts = node_label['cluster'].value_counts()\n",
    "original_clusters_counts.describe()"
   ]
  },
  {
   "cell_type": "code",
   "execution_count": 77,
   "metadata": {},
   "outputs": [
    {
     "data": {
      "text/plain": [
       "(344877, 2)"
      ]
     },
     "execution_count": 77,
     "metadata": {},
     "output_type": "execute_result"
    }
   ],
   "source": [
    "node_label2 = node_label.drop_duplicates(subset=['node'])\n",
    "node_label2.shape"
   ]
  },
  {
   "cell_type": "code",
   "execution_count": 78,
   "metadata": {},
   "outputs": [
    {
     "data": {
      "text/plain": [
       "count     1697.000000\n",
       "mean       203.227460\n",
       "std        503.668531\n",
       "min          1.000000\n",
       "25%         84.000000\n",
       "50%        115.000000\n",
       "75%        197.000000\n",
       "max      13331.000000\n",
       "Name: cluster, dtype: float64"
      ]
     },
     "execution_count": 78,
     "metadata": {},
     "output_type": "execute_result"
    }
   ],
   "source": [
    "original_clusters_counts2 = node_label2['cluster'].value_counts()\n",
    "original_clusters_counts2.describe()"
   ]
  },
  {
   "cell_type": "code",
   "execution_count": 79,
   "metadata": {},
   "outputs": [
    {
     "data": {
      "text/plain": [
       "4"
      ]
     },
     "execution_count": 79,
     "metadata": {},
     "output_type": "execute_result"
    }
   ],
   "source": [
    "original_clusters_counts2[original_clusters_counts2 == 1].shape[0]"
   ]
  },
  {
   "cell_type": "code",
   "execution_count": 81,
   "metadata": {},
   "outputs": [
    {
     "data": {
      "text/plain": [
       "1677"
      ]
     },
     "execution_count": 81,
     "metadata": {},
     "output_type": "execute_result"
    }
   ],
   "source": [
    "original_clusters_counts2[original_clusters_counts2 > 10].shape[0]"
   ]
  },
  {
   "cell_type": "markdown",
   "metadata": {},
   "source": [
    "# Clusters sizes during iterations"
   ]
  },
  {
   "cell_type": "code",
   "execution_count": 120,
   "metadata": {},
   "outputs": [
    {
     "name": "stderr",
     "output_type": "stream",
     "text": [
      "No handles with labels found to put in legend.\n"
     ]
    },
    {
     "data": {
      "image/png": "[encoded data removed]",
      "text/plain": [
       "<Figure size 720x576 with 1 Axes>"
      ]
     },
     "metadata": {
      "needs_background": "light"
     },
     "output_type": "display_data"
    }
   ],
   "source": [
    "from matplotlib import pyplot as plt\n",
    "\n",
    "values = [52710,31450,26786,25065,24248,23693,23153,22731,22482,22235,22146,22111,22084,22065,22057,22050,22049]\n",
    "\n",
    "\n",
    "fig, ax = plt.subplots(figsize=(10,8), )\n",
    "ax.plot(values)#, label='Model length')\n",
    "# ax.plot(a, d, 'k:', label='Data length')\n",
    "# ax.plot(a, c + d, 'k', label='Total message length')\n",
    "ax.legend()#loc='upper center', shadow=True, fontsize='x-large')\n",
    "ax.set_title(\"Changing of the number of clusters\")\n",
    "ax.set_xlabel('Iterations')\n",
    "ax.set_ylabel('Number of clusters')\n",
    "\n",
    "plt.xticks([i for i in range(0, len(values))], [i*5  for i in range(1, len(values)+1)])\n",
    "# plt.yticks([i for i in range(10,0, -1)], [\"log({})\".format(i)  for i in values])\n",
    "\n",
    "# ax.set_yticks(np.arange(len(linestyles)), linestyles.keys())\n",
    "\n",
    "# Put a nicer background color on the legend.\n",
    "# ax.legend.get_frame().set_facecolor('C0')\n",
    "\n",
    "plt.show()\n"
   ]
  },
  {
   "cell_type": "markdown",
   "metadata": {},
   "source": [
    "# Top 10 biggest clusters analysis"
   ]
  },
  {
   "cell_type": "code",
   "execution_count": 87,
   "metadata": {},
   "outputs": [
    {
     "data": {
      "text/plain": [
       "cluster\n",
       "81608      [1651, 13891, 23516, 26958, 27009, 27055, 2710...\n",
       "227612     [14453, 33476, 44006, 63993, 75036, 80133, 851...\n",
       "386990     [70849, 76197, 91363, 110414, 137564, 143978, ...\n",
       "536212     [200, 26787, 28990, 28991, 29051, 29057, 29209...\n",
       "870589     [13184, 13992, 22277, 23539, 29163, 33254, 334...\n",
       "946987     [69190, 133266, 133579, 133592, 133605, 147531...\n",
       "1060748    [153, 173, 980, 1085, 1087, 1089, 1098, 1100, ...\n",
       "1181827    [134, 137, 138, 185, 189, 195, 197, 199, 204, ...\n",
       "1329059    [13906, 29040, 30644, 32579, 34051, 39029, 390...\n",
       "1400624    [45, 52, 62, 63, 66, 87, 91, 100, 117, 127, 14...\n",
       "Name: node, dtype: object"
      ]
     },
     "execution_count": 87,
     "metadata": {},
     "output_type": "execute_result"
    }
   ],
   "source": [
    "top10 = df['cluster'].value_counts()[:10].index\n",
    "top10 = df[df['cluster'].isin(top10)]\n",
    "# df.groupby('a')['b'].apply(list)\n",
    "top10 = top10.groupby('cluster')['node'].apply(list)\n",
    "top10"
   ]
  },
  {
   "cell_type": "code",
   "execution_count": 88,
   "metadata": {},
   "outputs": [
    {
     "data": {
      "text/html": [
       "<div>\n",
       "<style scoped>\n",
       "    .dataframe tbody tr th:only-of-type {\n",
       "        vertical-align: middle;\n",
       "    }\n",
       "\n",
       "    .dataframe tbody tr th {\n",
       "        vertical-align: top;\n",
       "    }\n",
       "\n",
       "    .dataframe thead th {\n",
       "        text-align: right;\n",
       "    }\n",
       "</style>\n",
       "<table border=\"1\" class=\"dataframe\">\n",
       "  <thead>\n",
       "    <tr style=\"text-align: right;\">\n",
       "      <th></th>\n",
       "      <th>ind</th>\n",
       "      <th>name</th>\n",
       "    </tr>\n",
       "  </thead>\n",
       "  <tbody>\n",
       "    <tr>\n",
       "      <th>0</th>\n",
       "      <td>1</td>\n",
       "      <td>Kleroterion</td>\n",
       "    </tr>\n",
       "    <tr>\n",
       "      <th>1</th>\n",
       "      <td>2</td>\n",
       "      <td>Pinakion</td>\n",
       "    </tr>\n",
       "    <tr>\n",
       "      <th>2</th>\n",
       "      <td>6</td>\n",
       "      <td>\"Cayley's ruled cubic surface\"</td>\n",
       "    </tr>\n",
       "    <tr>\n",
       "      <th>3</th>\n",
       "      <td>9</td>\n",
       "      <td>\"BochnerMartinelli formula\"</td>\n",
       "    </tr>\n",
       "    <tr>\n",
       "      <th>4</th>\n",
       "      <td>10</td>\n",
       "      <td>\"BergmanWeil formula\"</td>\n",
       "    </tr>\n",
       "  </tbody>\n",
       "</table>\n",
       "</div>"
      ],
      "text/plain": [
       "   ind                            name\n",
       "0    1                     Kleroterion\n",
       "1    2                        Pinakion\n",
       "2    6  \"Cayley's ruled cubic surface\"\n",
       "3    9     \"BochnerMartinelli formula\"\n",
       "4   10           \"BergmanWeil formula\""
      ]
     },
     "execution_count": 88,
     "metadata": {},
     "output_type": "execute_result"
    }
   ],
   "source": [
    "names = []\n",
    "indices = []\n",
    "errors = []\n",
    "count = 0\n",
    "with open(\"../../../../assignment 3/wiki-topcats-page-names-short_ver_2.csv\") as f: \n",
    "    for line in f:\n",
    "        line = line.strip()\n",
    "        try:\n",
    "            id_, name = line.split(\" \", 1)\n",
    "            indices.append(int(id_))\n",
    "            names.append(name)\n",
    "        except:\n",
    "            errors.append(int(line))\n",
    "        \n",
    "df_names = pd.DataFrame({'ind':indices, 'name': names})\n",
    "df_names.head()\n"
   ]
  },
  {
   "cell_type": "code",
   "execution_count": 89,
   "metadata": {},
   "outputs": [],
   "source": [
    "names_dct = {}\n",
    "for tup in df_names.itertuples():\n",
    "    names_dct[tup.ind] = tup.name"
   ]
  },
  {
   "cell_type": "code",
   "execution_count": 90,
   "metadata": {},
   "outputs": [],
   "source": [
    "sample_clusters = pd.read_csv(\"../../../../assignment 3/sample_clusters_ver_2.csv\", index_col=0)"
   ]
  },
  {
   "cell_type": "code",
   "execution_count": 91,
   "metadata": {},
   "outputs": [],
   "source": [
    "sample_clusters['nodes'] = sample_clusters['nodes'].apply(lambda x: np.array(eval(x)).astype(int))"
   ]
  },
  {
   "cell_type": "code",
   "execution_count": 92,
   "metadata": {},
   "outputs": [
    {
     "data": {
      "text/html": [
       "<div>\n",
       "<style scoped>\n",
       "    .dataframe tbody tr th:only-of-type {\n",
       "        vertical-align: middle;\n",
       "    }\n",
       "\n",
       "    .dataframe tbody tr th {\n",
       "        vertical-align: top;\n",
       "    }\n",
       "\n",
       "    .dataframe thead th {\n",
       "        text-align: right;\n",
       "    }\n",
       "</style>\n",
       "<table border=\"1\" class=\"dataframe\">\n",
       "  <thead>\n",
       "    <tr style=\"text-align: right;\">\n",
       "      <th></th>\n",
       "      <th>name</th>\n",
       "      <th>nodes</th>\n",
       "    </tr>\n",
       "  </thead>\n",
       "  <tbody>\n",
       "    <tr>\n",
       "      <th>466</th>\n",
       "      <td>Category:Greek_Orthodox_Patriarchs_of_Alexandria</td>\n",
       "      <td>[47091, 47092, 47093, 47094, 47095, 47096, 470...</td>\n",
       "    </tr>\n",
       "    <tr>\n",
       "      <th>8249</th>\n",
       "      <td>Category:Writers_from_New_Jersey</td>\n",
       "      <td>[55522, 70631, 133117, 134234, 134922, 135927,...</td>\n",
       "    </tr>\n",
       "    <tr>\n",
       "      <th>4535</th>\n",
       "      <td>Category:Fictional_telepaths</td>\n",
       "      <td>[109860, 109861, 109863, 113225, 134933, 14282...</td>\n",
       "    </tr>\n",
       "    <tr>\n",
       "      <th>9474</th>\n",
       "      <td>Category:Scottish_clans</td>\n",
       "      <td>[157608, 185054, 185739, 186016, 186018, 18662...</td>\n",
       "    </tr>\n",
       "    <tr>\n",
       "      <th>10992</th>\n",
       "      <td>Category:Differential_geometry</td>\n",
       "      <td>[6, 35580, 63699, 63715, 63718, 69872, 70172, ...</td>\n",
       "    </tr>\n",
       "  </tbody>\n",
       "</table>\n",
       "</div>"
      ],
      "text/plain": [
       "                                                   name  \\\n",
       "466    Category:Greek_Orthodox_Patriarchs_of_Alexandria   \n",
       "8249                   Category:Writers_from_New_Jersey   \n",
       "4535                       Category:Fictional_telepaths   \n",
       "9474                            Category:Scottish_clans   \n",
       "10992                    Category:Differential_geometry   \n",
       "\n",
       "                                                   nodes  \n",
       "466    [47091, 47092, 47093, 47094, 47095, 47096, 470...  \n",
       "8249   [55522, 70631, 133117, 134234, 134922, 135927,...  \n",
       "4535   [109860, 109861, 109863, 113225, 134933, 14282...  \n",
       "9474   [157608, 185054, 185739, 186016, 186018, 18662...  \n",
       "10992  [6, 35580, 63699, 63715, 63718, 69872, 70172, ...  "
      ]
     },
     "execution_count": 92,
     "metadata": {},
     "output_type": "execute_result"
    }
   ],
   "source": [
    "sample_clusters.head()"
   ]
  },
  {
   "cell_type": "code",
   "execution_count": 93,
   "metadata": {},
   "outputs": [],
   "source": [
    "top10_dict = top10.to_dict()"
   ]
  },
  {
   "cell_type": "code",
   "execution_count": null,
   "metadata": {},
   "outputs": [],
   "source": []
  },
  {
   "cell_type": "code",
   "execution_count": 94,
   "metadata": {},
   "outputs": [],
   "source": [
    "# Finding the number of intersection between the original vlusters and our obtained lusters"
   ]
  },
  {
   "cell_type": "code",
   "execution_count": 95,
   "metadata": {},
   "outputs": [],
   "source": [
    "# jacard similarity\n",
    "for cluster_key  in top10_dict:\n",
    "    values = top10_dict[cluster_key]\n",
    "#     print(cluster_key)\n",
    "    sample_clusters[cluster_key] = sample_clusters['nodes'].apply(lambda x:  len(set(x) & set(values))/len(set(x) | set(values))*100 if len(x) != 0 else 0 )\n",
    "# sample_clusters['nodes']"
   ]
  },
  {
   "cell_type": "code",
   "execution_count": 96,
   "metadata": {},
   "outputs": [
    {
     "data": {
      "text/html": [
       "<div>\n",
       "<style scoped>\n",
       "    .dataframe tbody tr th:only-of-type {\n",
       "        vertical-align: middle;\n",
       "    }\n",
       "\n",
       "    .dataframe tbody tr th {\n",
       "        vertical-align: top;\n",
       "    }\n",
       "\n",
       "    .dataframe thead th {\n",
       "        text-align: right;\n",
       "    }\n",
       "</style>\n",
       "<table border=\"1\" class=\"dataframe\">\n",
       "  <thead>\n",
       "    <tr style=\"text-align: right;\">\n",
       "      <th></th>\n",
       "      <th>name</th>\n",
       "      <th>81608</th>\n",
       "      <th>227612</th>\n",
       "      <th>386990</th>\n",
       "      <th>536212</th>\n",
       "      <th>870589</th>\n",
       "      <th>946987</th>\n",
       "      <th>1060748</th>\n",
       "      <th>1181827</th>\n",
       "      <th>1329059</th>\n",
       "      <th>1400624</th>\n",
       "    </tr>\n",
       "  </thead>\n",
       "  <tbody>\n",
       "    <tr>\n",
       "      <th>466</th>\n",
       "      <td>Category:Greek_Orthodox_Patriarchs_of_Alexandria</td>\n",
       "      <td>0.0</td>\n",
       "      <td>0.0</td>\n",
       "      <td>0.0</td>\n",
       "      <td>0.000000</td>\n",
       "      <td>0.0</td>\n",
       "      <td>0.0</td>\n",
       "      <td>0.000000</td>\n",
       "      <td>0.000000</td>\n",
       "      <td>0.0</td>\n",
       "      <td>0.024563</td>\n",
       "    </tr>\n",
       "    <tr>\n",
       "      <th>8249</th>\n",
       "      <td>Category:Writers_from_New_Jersey</td>\n",
       "      <td>0.0</td>\n",
       "      <td>0.0</td>\n",
       "      <td>0.0</td>\n",
       "      <td>0.000000</td>\n",
       "      <td>0.0</td>\n",
       "      <td>0.0</td>\n",
       "      <td>0.055582</td>\n",
       "      <td>0.033735</td>\n",
       "      <td>0.0</td>\n",
       "      <td>0.105786</td>\n",
       "    </tr>\n",
       "    <tr>\n",
       "      <th>4535</th>\n",
       "      <td>Category:Fictional_telepaths</td>\n",
       "      <td>0.0</td>\n",
       "      <td>0.0</td>\n",
       "      <td>0.0</td>\n",
       "      <td>0.000000</td>\n",
       "      <td>0.0</td>\n",
       "      <td>0.0</td>\n",
       "      <td>0.147599</td>\n",
       "      <td>0.024118</td>\n",
       "      <td>0.0</td>\n",
       "      <td>0.002136</td>\n",
       "    </tr>\n",
       "    <tr>\n",
       "      <th>9474</th>\n",
       "      <td>Category:Scottish_clans</td>\n",
       "      <td>0.0</td>\n",
       "      <td>0.0</td>\n",
       "      <td>0.0</td>\n",
       "      <td>0.058140</td>\n",
       "      <td>0.0</td>\n",
       "      <td>0.0</td>\n",
       "      <td>0.000000</td>\n",
       "      <td>0.000000</td>\n",
       "      <td>0.0</td>\n",
       "      <td>0.001066</td>\n",
       "    </tr>\n",
       "    <tr>\n",
       "      <th>10992</th>\n",
       "      <td>Category:Differential_geometry</td>\n",
       "      <td>0.0</td>\n",
       "      <td>0.0</td>\n",
       "      <td>0.0</td>\n",
       "      <td>0.000000</td>\n",
       "      <td>0.0</td>\n",
       "      <td>0.0</td>\n",
       "      <td>0.000000</td>\n",
       "      <td>0.000000</td>\n",
       "      <td>0.0</td>\n",
       "      <td>0.003199</td>\n",
       "    </tr>\n",
       "    <tr>\n",
       "      <th>1428</th>\n",
       "      <td>Category:Battles_involving_the_United_States</td>\n",
       "      <td>0.0</td>\n",
       "      <td>0.0</td>\n",
       "      <td>0.0</td>\n",
       "      <td>0.057792</td>\n",
       "      <td>0.0</td>\n",
       "      <td>0.0</td>\n",
       "      <td>0.002768</td>\n",
       "      <td>0.007206</td>\n",
       "      <td>0.0</td>\n",
       "      <td>0.227586</td>\n",
       "    </tr>\n",
       "    <tr>\n",
       "      <th>10919</th>\n",
       "      <td>Category:Mechanics</td>\n",
       "      <td>0.0</td>\n",
       "      <td>0.0</td>\n",
       "      <td>0.0</td>\n",
       "      <td>0.000000</td>\n",
       "      <td>0.0</td>\n",
       "      <td>0.0</td>\n",
       "      <td>0.011118</td>\n",
       "      <td>0.000000</td>\n",
       "      <td>0.0</td>\n",
       "      <td>0.088694</td>\n",
       "    </tr>\n",
       "    <tr>\n",
       "      <th>2888</th>\n",
       "      <td>Category:Digital_television</td>\n",
       "      <td>0.0</td>\n",
       "      <td>0.0</td>\n",
       "      <td>0.0</td>\n",
       "      <td>0.000000</td>\n",
       "      <td>0.0</td>\n",
       "      <td>0.0</td>\n",
       "      <td>0.041647</td>\n",
       "      <td>0.019261</td>\n",
       "      <td>0.0</td>\n",
       "      <td>0.035226</td>\n",
       "    </tr>\n",
       "    <tr>\n",
       "      <th>16687</th>\n",
       "      <td>Category:Internet_properties_established_in_2005</td>\n",
       "      <td>0.0</td>\n",
       "      <td>0.0</td>\n",
       "      <td>0.0</td>\n",
       "      <td>0.000000</td>\n",
       "      <td>0.0</td>\n",
       "      <td>0.0</td>\n",
       "      <td>0.050085</td>\n",
       "      <td>0.021708</td>\n",
       "      <td>0.0</td>\n",
       "      <td>0.069464</td>\n",
       "    </tr>\n",
       "    <tr>\n",
       "      <th>13924</th>\n",
       "      <td>Category:Union_victories_of_the_American_Civil...</td>\n",
       "      <td>0.0</td>\n",
       "      <td>0.0</td>\n",
       "      <td>0.0</td>\n",
       "      <td>0.000000</td>\n",
       "      <td>0.0</td>\n",
       "      <td>0.0</td>\n",
       "      <td>0.000000</td>\n",
       "      <td>0.002404</td>\n",
       "      <td>0.0</td>\n",
       "      <td>0.080051</td>\n",
       "    </tr>\n",
       "  </tbody>\n",
       "</table>\n",
       "</div>"
      ],
      "text/plain": [
       "                                                    name  81608  227612  \\\n",
       "466     Category:Greek_Orthodox_Patriarchs_of_Alexandria    0.0     0.0   \n",
       "8249                    Category:Writers_from_New_Jersey    0.0     0.0   \n",
       "4535                        Category:Fictional_telepaths    0.0     0.0   \n",
       "9474                             Category:Scottish_clans    0.0     0.0   \n",
       "10992                     Category:Differential_geometry    0.0     0.0   \n",
       "1428        Category:Battles_involving_the_United_States    0.0     0.0   \n",
       "10919                                 Category:Mechanics    0.0     0.0   \n",
       "2888                         Category:Digital_television    0.0     0.0   \n",
       "16687   Category:Internet_properties_established_in_2005    0.0     0.0   \n",
       "13924  Category:Union_victories_of_the_American_Civil...    0.0     0.0   \n",
       "\n",
       "       386990    536212  870589  946987   1060748   1181827  1329059   1400624  \n",
       "466       0.0  0.000000     0.0     0.0  0.000000  0.000000      0.0  0.024563  \n",
       "8249      0.0  0.000000     0.0     0.0  0.055582  0.033735      0.0  0.105786  \n",
       "4535      0.0  0.000000     0.0     0.0  0.147599  0.024118      0.0  0.002136  \n",
       "9474      0.0  0.058140     0.0     0.0  0.000000  0.000000      0.0  0.001066  \n",
       "10992     0.0  0.000000     0.0     0.0  0.000000  0.000000      0.0  0.003199  \n",
       "1428      0.0  0.057792     0.0     0.0  0.002768  0.007206      0.0  0.227586  \n",
       "10919     0.0  0.000000     0.0     0.0  0.011118  0.000000      0.0  0.088694  \n",
       "2888      0.0  0.000000     0.0     0.0  0.041647  0.019261      0.0  0.035226  \n",
       "16687     0.0  0.000000     0.0     0.0  0.050085  0.021708      0.0  0.069464  \n",
       "13924     0.0  0.000000     0.0     0.0  0.000000  0.002404      0.0  0.080051  "
      ]
     },
     "execution_count": 96,
     "metadata": {},
     "output_type": "execute_result"
    }
   ],
   "source": [
    "sample_clusters.drop(columns=['nodes']).head(10)"
   ]
  },
  {
   "cell_type": "code",
   "execution_count": 97,
   "metadata": {},
   "outputs": [],
   "source": [
    "sample_clusters.reset_index(inplace=True)"
   ]
  },
  {
   "cell_type": "code",
   "execution_count": 98,
   "metadata": {},
   "outputs": [],
   "source": [
    "cat_names = {}\n",
    "for cluster in top10_dict.keys():\n",
    "    cat_names[cluster] = sample_clusters.iloc[sample_clusters[cluster].argsort()[-2:], 1].values"
   ]
  },
  {
   "cell_type": "code",
   "execution_count": 99,
   "metadata": {},
   "outputs": [],
   "source": [
    "# top10_dict"
   ]
  },
  {
   "cell_type": "code",
   "execution_count": 100,
   "metadata": {},
   "outputs": [],
   "source": [
    "topics_in_clusters = {}\n",
    "count = 0\n",
    "for cluster_key, cluster_value in top10_dict.items():\n",
    "    topics_in_clusters[cluster_key] = [names_dct[val] for val in cluster_value]"
   ]
  },
  {
   "cell_type": "code",
   "execution_count": 113,
   "metadata": {},
   "outputs": [
    {
     "data": {
      "text/plain": [
       "['\"Walter de Frece\"',\n",
       " '\"Alfred Butt\"',\n",
       " '\"William Astor, 4th Viscount Astor\"',\n",
       " '\"Dudley Joel\"',\n",
       " '\"Robert Bernhardt\"',\n",
       " '\"Robert Hall (British Army officer)\"',\n",
       " '\"James J. Winans\"',\n",
       " '\"Rogers E. M. Whitaker\"',\n",
       " '\"Synergy (horse)\"',\n",
       " '\"Tony anti\"',\n",
       " '\"Pedro Reyes\"',\n",
       " '\"Jorge Contreras\"',\n",
       " '\"Javier Margas\"',\n",
       " '\"Double Life\"',\n",
       " '\"Arthur Forbes, 9th Earl of Granard\"',\n",
       " '\"Linda Bement\"',\n",
       " '\"John Huffman\"',\n",
       " '\"Three Stories and Ten Poems\"',\n",
       " '\"Alorton, Illinois\"',\n",
       " '\"Anne Arundel Stakes top three finishers and starters\"']"
      ]
     },
     "execution_count": 113,
     "metadata": {},
     "output_type": "execute_result"
    }
   ],
   "source": [
    "topics_in_clusters[1329059] [100:120]"
   ]
  },
  {
   "cell_type": "code",
   "execution_count": 104,
   "metadata": {},
   "outputs": [
    {
     "data": {
      "text/plain": [
       "1698    1585\n",
       "1699     113\n",
       "Name: 1400624, dtype: int64"
      ]
     },
     "execution_count": 104,
     "metadata": {},
     "output_type": "execute_result"
    }
   ],
   "source": [
    "sample_clusters[1400624].argsort()[-2:]"
   ]
  },
  {
   "cell_type": "code",
   "execution_count": 107,
   "metadata": {},
   "outputs": [
    {
     "data": {
      "text/plain": [
       "dict_keys([81608, 227612, 386990, 536212, 870589, 946987, 1060748, 1181827, 1329059, 1400624])"
      ]
     },
     "execution_count": 107,
     "metadata": {},
     "output_type": "execute_result"
    }
   ],
   "source": []
  },
  {
   "cell_type": "code",
   "execution_count": 110,
   "metadata": {},
   "outputs": [
    {
     "data": {
      "text/plain": [
       "{81608: ['Category:Conference_National_players',\n",
       "  'Category:The_Football_League_players'],\n",
       " 227612: ['Category:New_York_Rangers_players',\n",
       "  'Category:National_Hockey_League_first_round_draft_picks'],\n",
       " 386990: ['Category:Chicago_Cubs_players',\n",
       "  'Category:National_League_All-Stars'],\n",
       " 536212: ['Category:UK_MPs_18591865', 'Category:UK_MPs_18521857'],\n",
       " 870589: ['Category:Finnish_expatriate_footballers',\n",
       "  'Category:Main_Belt_asteroids'],\n",
       " 946987: ['Category:Small_forwards', 'Category:Power_forwards_(basketball)'],\n",
       " 1060748: ['Category:American_voice_actors', 'Category:American_films'],\n",
       " 1181827: ['Category:Columbia_Records_albums', 'Category:American_films'],\n",
       " 1329059: ['Category:American_racehorses', 'Category:Thoroughbred_racehorses'],\n",
       " 1400624: [\"Category:Recipients_of_the_Knight's_Cross\",\n",
       "  'Category:American_painters']}"
      ]
     },
     "execution_count": 110,
     "metadata": {},
     "output_type": "execute_result"
    }
   ],
   "source": [
    "# np.sort(sample_clusters[1400624].values)[:,-2:]\n",
    "clust_cats = {}\n",
    "for k in top10_dict.keys():\n",
    "    clust_cats[k] = list(sample_clusters.iloc[sample_clusters[k].argsort()[-2:], 1].values)\n",
    "clust_cats"
   ]
  },
  {
   "cell_type": "code",
   "execution_count": 196,
   "metadata": {},
   "outputs": [
    {
     "data": {
      "text/plain": [
       "'Category:Popes'"
      ]
     },
     "execution_count": 196,
     "metadata": {},
     "output_type": "execute_result"
    }
   ],
   "source": [
    "sample_clusters['name'].iloc[83]"
   ]
  },
  {
   "cell_type": "code",
   "execution_count": null,
   "metadata": {},
   "outputs": [],
   "source": []
  },
  {
   "cell_type": "code",
   "execution_count": null,
   "metadata": {},
   "outputs": [],
   "source": []
  },
  {
   "cell_type": "code",
   "execution_count": null,
   "metadata": {},
   "outputs": [],
   "source": [
    "This does not work because of data too big"
   ]
  },
  {
   "cell_type": "code",
   "execution_count": 244,
   "metadata": {},
   "outputs": [],
   "source": [
    "from sklearn.cluster import DBSCAN\n"
   ]
  },
  {
   "cell_type": "code",
   "execution_count": 257,
   "metadata": {},
   "outputs": [],
   "source": [
    "# df"
   ]
  },
  {
   "cell_type": "code",
   "execution_count": 261,
   "metadata": {},
   "outputs": [],
   "source": [
    "df.columns = ['source', 'target']"
   ]
  },
  {
   "cell_type": "code",
   "execution_count": 262,
   "metadata": {},
   "outputs": [],
   "source": [
    "import networkx as nx\n",
    "\n",
    "g = nx.from_pandas_edgelist(df)"
   ]
  },
  {
   "cell_type": "code",
   "execution_count": null,
   "metadata": {},
   "outputs": [],
   "source": []
  },
  {
   "cell_type": "code",
   "execution_count": 263,
   "metadata": {},
   "outputs": [],
   "source": [
    "matr = nx.to_scipy_sparse_matrix(g)"
   ]
  },
  {
   "cell_type": "code",
   "execution_count": 265,
   "metadata": {},
   "outputs": [],
   "source": [
    "clustering = DBSCAN()"
   ]
  },
  {
   "cell_type": "code",
   "execution_count": null,
   "metadata": {},
   "outputs": [],
   "source": [
    "clustering.fit(matr)"
   ]
  },
  {
   "cell_type": "code",
   "execution_count": null,
   "metadata": {},
   "outputs": [],
   "source": []
  }
 ],
 "metadata": {
  "kernelspec": {
   "display_name": "Python 3",
   "language": "python",
   "name": "python3"
  },
  "language_info": {
   "codemirror_mode": {
    "name": "ipython",
    "version": 3
   },
   "file_extension": ".py",
   "mimetype": "text/x-python",
   "name": "python",
   "nbconvert_exporter": "python",
   "pygments_lexer": "ipython3",
   "version": "3.7.2"
  }
 },
 "nbformat": 4,
 "nbformat_minor": 2
}
